{
 "cells": [
  {
   "cell_type": "markdown",
   "metadata": {},
   "source": [
    "## Muscle fiber anisotropy characterization with the 2D WTMM Method"
   ]
  },
  {
   "cell_type": "markdown",
   "metadata": {},
   "source": [
    "To characterize the structure of muscle fibers, we employed the 2D Wavelet Transform Modulus Maxima (WTMM) anisotropy method _ref coronal loops_. This technique provides a numerical measure of the randomness of morphological shapes within an image. Essentially, the wavelet transform functions like a mathematical microscope, capturing and quantifying intensity fluctuations in the image. The continuous nature of the wavelet transform allows us to explore all size scales, thus fully utilizing the spatial-scale information available. This capability enables objective segmentation of objects of interest, without any preconceived notions about their size or morphology.\n",
    "\n",
    "Image segmentation with continuous wavelets relies on the derivative of a 2D smoothing function (filter), which serves as an \"edge detector\". Specifically, we use two wavelets that are the partial derivatives of a 2D smoothing (Gaussian) function with respect to $x$ and $y$, respectively.\n"
   ]
  },
  {
   "cell_type": "markdown",
   "metadata": {},
   "source": [
    "$$\n",
    "\\begin{equation}\n",
    "\\phi_{\\text{Gau}}(x, y) = e^{-(x^2 + y^2)/2} = e^{-| \\mathbf{x} |^2 / 2}\n",
    "\\end{equation}\n",
    "$$\n",
    "\n",
    "$$\n",
    "\\begin{equation}\n",
    "\\psi_1(x, y) = \\partial \\phi_{\\text{Gau}}(x, y) / \\partial x \\quad \\ \\text{and} \\quad \\psi_2(x, y) = \\partial \\phi_{\\text{Gau}}(x, y) / \\partial y\n",
    "\\end{equation}\n",
    "$$"
   ]
  },
  {
   "cell_type": "markdown",
   "metadata": {},
   "source": [
    "For any function $f(x,y) \\in L^{2}(R)$ (where $L^{2}(R)$ consists of all square-integrable functions). The continuous wavelet transform of f with respect to $\\Psi_{1}$ and $\\Psi_{2}$ can be expressed as a vector:\n"
   ]
  },
  {
   "cell_type": "markdown",
   "metadata": {},
   "source": [
    "$$\n",
    "\\begin{equation}\n",
    "\\mathbf{T}_{\\psi}\\lbrack\\mathbf{f}\\rbrack(\\mathbf{b},a) = \\left( \n",
    "\\begin{array}{l}\n",
    "T_{\\psi_1}\\lbrack\\mathbf{f}\\rbrack = a^{-2} \\int d^2x \\, \\psi_1(a^{-1}(\\mathbf{x} - \\mathbf{b})) f(\\mathbf{x}) \\\\\n",
    "\n",
    "T_{\\psi_2}\\lbrack\\mathbf{f}\\rbrack = a^{-2} \\int d^2x \\, \\psi_2(a^{-1}(\\mathbf{x} - \\mathbf{b})) f(\\mathbf{x})\n",
    "\\end{array}\n",
    "\\right) \n",
    "= \\nabla \\lbrack T_{\\psi_{\\text{Gauss}}}\\lbrack\\mathbf{f}\\rbrack(\\mathbf{b},a) \\rbrack = \\nabla \\lbrack \\phi_{\\text{Gauss},\\mathbf{b},a} * f\\rbrack\n",
    "\\end{equation}\n",
    "$$"
   ]
  },
  {
   "cell_type": "markdown",
   "metadata": {},
   "source": [
    "Thus, Equation (3) effectively defines the 2D wavelet transform as the gradient vector of $f(x)$ smoothed by the dilated versions $\\psi_{Gau}(a^{-1}x)$ of the Gaussian filter at a given scale $a$."
   ]
  },
  {
   "cell_type": "markdown",
   "metadata": {},
   "source": [
    "The wavelet transform can be written in terms of its modulus $\\mathcal{M}_\\psi \\lbrack f\\rbrack(\\mathbf{b}, a)$ and argument $\\mathcal{A}_\\psi \\lbrack f\\rbrack(\\mathbf{b}, a)$.\n",
    "\n",
    "$$\n",
    "\\begin{aligned}\n",
    "\\mathcal{M}_\\psi \\lbrack f\\rbrack(\\mathbf{b}, a) & =\\sqrt{\\left(T_{\\psi 1} \\lbrack f\\rbrack(\\mathbf{b}, a)\\right)^2+\\left(T_{\\psi 2} \\lbrack f\\rbrack(\\mathbf{b}, a)\\right)^2} \\\\\n",
    "\\mathcal{A}_\\psi \\lbrack f\\rbrack(\\mathbf{b}, a) & =\\operatorname{Arg}\\left(T_{\\psi 1} \\lbrack f\\rbrack(\\mathbf{b}, a)+\\mathrm{i} T_{\\psi 2} \\lbrack f\\rbrack(\\mathbf{b}, a)\\right) \n",
    "\\end{aligned}\n",
    "$$"
   ]
  },
  {
   "cell_type": "markdown",
   "metadata": {},
   "source": [
    "Let $f(x,y)$ be the input image to be analyzed and $T$ the wavelet transform vector of $f$ at\n",
    "scale $a$.\n",
    "\n",
    "\n",
    "$$\n",
    "T=\\left( \\begin{array}{c}\n",
    "f_{x} \\\\\n",
    "f_{y}\n",
    "\\end{array} \\right)\n",
    "$$\n",
    "\n",
    "Where $f_{x}$ and $f_{y}$ are the wavelet transform components"
   ]
  },
  {
   "cell_type": "markdown",
   "metadata": {},
   "source": [
    "$$\n",
    "\\begin{equation}\n",
    "f_x = \\partial_x (f \\ast \\phi_a)\n",
    "\\end{equation}\n",
    "$$\n",
    "$$\n",
    "\\begin{equation}\n",
    "f_y = \\partial_y (f \\ast \\phi_a)\n",
    "\\end{equation}\n",
    "$$"
   ]
  },
  {
   "cell_type": "markdown",
   "metadata": {},
   "source": [
    "And the square modulus is defined as: \n",
    "$$\n",
    "M^{2}=f_{x}^{2}+f_{y}^{2}\n",
    "$$"
   ]
  },
  {
   "cell_type": "markdown",
   "metadata": {},
   "source": [
    "The Wavelet Transform Modulus Maxima (WTMM) is defined by the positions where the modulus of the wavelet transform reaches its maximum _i.e._ the steepest slope in the $f \\ast \\phi_a$ landscape. These WTMM points are automatically organized into maxima chains, which function as contour lines of the smoothed image at the given scales. At each scale, the algorithm scans all boundary lines corresponding to the highest gradient values, i.e., the maxima chains. For each considered scale, our algorithm outputs the \\lbrackx, y\\rbrack pixel location chain of each detected edge. Each chain thus corresponds to a single extracted edge in the image. Next, the positions of maximal intensity variation along the maxima chains are computed (WTMM Maxima or WTMMM). "
   ]
  },
  {
   "cell_type": "markdown",
   "metadata": {},
   "source": [
    "In order to identify the WTMM where the steepest slope is orthogonal to the WTMM chain's edge, we compute the scalar quantity $N$ as follows:\n",
    "$$\n",
    "N =∇(M2)•T=2fx^{2}\\partial_x f_{x} +4f_{x}f_{y}\\partial_yf_{x} +2f_{y}^{2} \\partial_y f_{y}.\n",
    "$$"
   ]
  },
  {
   "cell_type": "markdown",
   "metadata": {},
   "source": [
    "$N$ changes sign when crossing the WTMM along the direction $T$, but to clearly identify a maxima we require that the second derivative along $T$ is stictly negative _i.e._\n",
    "\n",
    "$$\n",
    "N′ = \\partial_x Nf_{x} +\\partial_y Nf_{y} < 0\n",
    "$$"
   ]
  },
  {
   "cell_type": "markdown",
   "metadata": {
    "vscode": {
     "languageId": "plaintext"
    }
   },
   "source": [
    "The direction in which the signal has the sharpest variation is then calculated and the probability density function of the directions is exctracted. The anisotropy factor $F_{a}$ can be calculated as follows:\n",
    "$$\n",
    "F_a = \\int_{-\\pi}^{\\pi} \\left| P_a(A) - \\frac{1}{2\\pi} \\right| \\, \\mathrm{d}A.\n",
    "$$"
   ]
  },
  {
   "cell_type": "markdown",
   "metadata": {},
   "source": [
    "### Algorithm 1 WTMM edges computation algorithm \n",
    "```python\n",
    "Require: f(i,j)theinputimage\n",
    "Require: a scale parameter\n",
    "    compute WT of f at scale a : T=∇(f ⋆Gσ) \n",
    "    compute N and N′\n",
    "    for pixel (i, j ) ∈ image range do\n",
    "        if N ′ < 0 and N changes sign in 3 × 3-neighborhood then\n",
    "            pixel (i, j ) is labelled as a WTMM\n",
    "        end if \n",
    "    end for\n",
    "WTMM edge image\n",
    "```"
   ]
  },
  {
   "cell_type": "code",
   "execution_count": 28,
   "metadata": {},
   "outputs": [
    {
     "name": "stdout",
     "output_type": "stream",
     "text": [
      "Anisotropy_methods.docx  angles-scale-5.pdf       scale-2.pdf\n",
      "Anisotropy_methods.ipynb figures.pptx             scale-5.pdf\n",
      "angles-scale-10.pdf      images.pdf               ~$figures.pptx\n",
      "angles-scale-2.pdf       scale-10.pdf\n"
     ]
    }
   ],
   "source": [
    "!ls\n",
    "!pandoc Anisotropy_methods.ipynb -s -o Anisotropy_methods.docx"
   ]
  }
 ],
 "metadata": {
  "kernelspec": {
   "display_name": "lab",
   "language": "python",
   "name": "python3"
  },
  "language_info": {
   "codemirror_mode": {
    "name": "ipython",
    "version": 3
   },
   "file_extension": ".py",
   "mimetype": "text/x-python",
   "name": "python",
   "nbconvert_exporter": "python",
   "pygments_lexer": "ipython3",
   "version": "3.11.7"
  }
 },
 "nbformat": 4,
 "nbformat_minor": 2
}
